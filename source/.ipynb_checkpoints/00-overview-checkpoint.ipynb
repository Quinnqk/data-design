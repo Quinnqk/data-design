{
 "cells": [
  {
   "cell_type": "markdown",
   "metadata": {},
   "source": [
    "# Data and Design with Python\n",
    "\n",
    "**OVERVIEW**\n",
    "\n",
    "This short course aims to introduce participants to the Python computing language.  We will investigate the use of Python to perform data analysis, access and structure information from the web, and build and deploy applications like web pages and message boards using Django.  Students will be expected to complete a small project for each weeks topics described below."
   ]
  },
  {
   "cell_type": "markdown",
   "metadata": {},
   "source": [
    "### Important Material Locations\n",
    "\n",
    "- **Course Documentation**:  http://data-and-design.readthedocs.io/en/latest/\n",
    "- **Github Repository**: https://github.com/jfkoehler/data-design/tree/master/source\n",
    "- **Slack Channel**: https://datadesignpython.slack.com/\n",
    "- **Stack Exchange**: https://stackexchange.com/\n"
   ]
  },
  {
   "cell_type": "markdown",
   "metadata": {},
   "source": [
    "### Topics\n",
    "\n",
    "- **Introduction to Data and Visualizations**: The first class will focus on using Pandas and Seaborn to explore data in `.csv` files and through API's.  We emphasize the use of the computer to explore the data and look for patterns and differences.  Our first project involves writing an analysis of New York City's $8^{\\text{th}}$ grade mathematics scores.\n",
    "\n",
    "   - [Introduction to Pandas and Seaborn](02-introPandas.ipynb)\n",
    "   - [Pandas and Seaborn](03-datafiles.ipynb)\n",
    "   - [Assignment: Access and Analyze Data](04-ProjectA.ipynb)\n",
    "   \n",
    "- **Introduction to Web Scraping**: Today, we investigate the use of webscraping to pull and clean data from websites.  We will investigate some basics of HTML and CSS, and use the `requests` and `BeautifulSoup2` libraries to pull this information.\n",
    "\n",
    "  - [Introduction to webscraping](05-intro_to_scraping_I.ipynb)\n",
    "  - [Scraping Part II](07-scraping-jumpstreet.ipynb)\n",
    "  \n",
    "- **Natural Language Processing and Scraping**: Today, we extend our webscraping work to analyze the text of documents scraped.  We will use the Natural Language Toolkit to analyze text.  We will also introduce the use of regular expressions in navigating text on the computer.\n",
    "\n",
    "  - [Webscraping and Natural Language Processing](08_scraping_and_nltk.ipynb)\n",
    "  - [Sentiment Analysis of Text](09-Machine-Learning-Intro.ipynb)\n",
    "  - [More Machine Learning](09_ML_Intro.ipynb)\n",
    "  \n",
    "- **Web Design with Django**: In this workshop, we will use the Django framework to design and deploy a basic web application.  Our assignment will be a basic website ready to display our earlier work with Jupyter notebooks.  We discuss Django projects and applications to use Python to build a basic website.\n",
    "\n",
    "  - [Basic WebSite with Django](11-django-intro.ipynb)\n",
    "  - [Applications with Django](12-Django-templates.ipynb)\n",
    "\n",
    "  \n",
    "- **Data and our Website**: The final class serves to connect our earlier work with data and Python through Django models, where we build a database for our website.  We will add a Blog application to our site, post some information, and access these posts as data in the shell.  Finally, we use the ListView and DetailView to display these posts together with template logic.\n",
    "\n",
    "  - [Databases and Django: A Basic Blog](13-Django-Models-Blogs.ipynb)\n"
   ]
  }
 ],
 "metadata": {
  "kernelspec": {
   "display_name": "Python 3",
   "language": "python",
   "name": "python3"
  },
  "language_info": {
   "codemirror_mode": {
    "name": "ipython",
    "version": 3
   },
   "file_extension": ".py",
   "mimetype": "text/x-python",
   "name": "python",
   "nbconvert_exporter": "python",
   "pygments_lexer": "ipython3",
   "version": "3.6.4"
  }
 },
 "nbformat": 4,
 "nbformat_minor": 2
}
